{
 "cells": [
  {
   "cell_type": "code",
   "execution_count": 1,
   "metadata": {},
   "outputs": [
    {
     "name": "stdout",
     "output_type": "stream",
     "text": [
      "     Soil_color  Nitrogen  Phosphorus  Potassium   pH       Crop Fertilizer  \\\n",
      "0         Black        75          50        100  6.5  Sugarcane       Urea   \n",
      "1         Black        80          50        100  6.5  Sugarcane       Urea   \n",
      "2         Black        85          50        100  6.5  Sugarcane       Urea   \n",
      "3         Black        90          50        100  6.5  Sugarcane       Urea   \n",
      "4         Black        95          50        100  6.5  Sugarcane       Urea   \n",
      "...         ...       ...         ...        ...  ...        ...        ...   \n",
      "2916      Black       130          80        150  7.0  Sugarcane        MOP   \n",
      "2917      Black       135          80        150  7.0  Sugarcane        MOP   \n",
      "2918      Black       140          80        150  7.0  Sugarcane        MOP   \n",
      "2919      Black       145          80        150  7.0  Sugarcane        MOP   \n",
      "2920      Black       150          80        150  7.0  Sugarcane        MOP   \n",
      "\n",
      "                              Link  \n",
      "0     https://youtu.be/2t5Am0xLTOo  \n",
      "1     https://youtu.be/2t5Am0xLTOo  \n",
      "2     https://youtu.be/2t5Am0xLTOo  \n",
      "3     https://youtu.be/2t5Am0xLTOo  \n",
      "4     https://youtu.be/2t5Am0xLTOo  \n",
      "...                            ...  \n",
      "2916  https://youtu.be/rPrZO6MqCqI  \n",
      "2917  https://youtu.be/rPrZO6MqCqI  \n",
      "2918  https://youtu.be/rPrZO6MqCqI  \n",
      "2919  https://youtu.be/rPrZO6MqCqI  \n",
      "2920  https://youtu.be/rPrZO6MqCqI  \n",
      "\n",
      "[2921 rows x 8 columns]\n"
     ]
    }
   ],
   "source": [
    "\n",
    "\n",
    "import pandas as pd\n",
    "df=pd.read_csv(r'C:\\\\Users\\Lenovo\\Downloads\\Crop_and_fertilizer dataset.csv')\n",
    "print(df)"
   ]
  },
  {
   "cell_type": "code",
   "execution_count": 2,
   "metadata": {},
   "outputs": [
    {
     "data": {
      "text/plain": [
       "(2921, 8)"
      ]
     },
     "execution_count": 2,
     "metadata": {},
     "output_type": "execute_result"
    }
   ],
   "source": [
    "df.shape"
   ]
  },
  {
   "cell_type": "code",
   "execution_count": 3,
   "metadata": {},
   "outputs": [
    {
     "name": "stdout",
     "output_type": "stream",
     "text": [
      "<class 'pandas.core.frame.DataFrame'>\n",
      "RangeIndex: 2921 entries, 0 to 2920\n",
      "Data columns (total 8 columns):\n",
      " #   Column      Non-Null Count  Dtype  \n",
      "---  ------      --------------  -----  \n",
      " 0   Soil_color  2921 non-null   object \n",
      " 1   Nitrogen    2921 non-null   int64  \n",
      " 2   Phosphorus  2921 non-null   int64  \n",
      " 3   Potassium   2921 non-null   int64  \n",
      " 4   pH          2921 non-null   float64\n",
      " 5   Crop        2921 non-null   object \n",
      " 6   Fertilizer  2921 non-null   object \n",
      " 7   Link        2921 non-null   object \n",
      "dtypes: float64(1), int64(3), object(4)\n",
      "memory usage: 182.7+ KB\n"
     ]
    }
   ],
   "source": [
    "df.info()"
   ]
  },
  {
   "cell_type": "code",
   "execution_count": 4,
   "metadata": {},
   "outputs": [
    {
     "data": {
      "text/plain": [
       "Soil_color    0\n",
       "Nitrogen      0\n",
       "Phosphorus    0\n",
       "Potassium     0\n",
       "pH            0\n",
       "Crop          0\n",
       "Fertilizer    0\n",
       "Link          0\n",
       "dtype: int64"
      ]
     },
     "execution_count": 4,
     "metadata": {},
     "output_type": "execute_result"
    }
   ],
   "source": [
    "df.isnull().sum()"
   ]
  },
  {
   "cell_type": "code",
   "execution_count": 5,
   "metadata": {},
   "outputs": [
    {
     "data": {
      "text/plain": [
       "21"
      ]
     },
     "execution_count": 5,
     "metadata": {},
     "output_type": "execute_result"
    }
   ],
   "source": [
    "df.duplicated().sum()"
   ]
  },
  {
   "cell_type": "code",
   "execution_count": 6,
   "metadata": {},
   "outputs": [
    {
     "data": {
      "text/html": [
       "<div>\n",
       "<style scoped>\n",
       "    .dataframe tbody tr th:only-of-type {\n",
       "        vertical-align: middle;\n",
       "    }\n",
       "\n",
       "    .dataframe tbody tr th {\n",
       "        vertical-align: top;\n",
       "    }\n",
       "\n",
       "    .dataframe thead th {\n",
       "        text-align: right;\n",
       "    }\n",
       "</style>\n",
       "<table border=\"1\" class=\"dataframe\">\n",
       "  <thead>\n",
       "    <tr style=\"text-align: right;\">\n",
       "      <th></th>\n",
       "      <th>Soil_color</th>\n",
       "      <th>Nitrogen</th>\n",
       "      <th>Phosphorus</th>\n",
       "      <th>Potassium</th>\n",
       "      <th>pH</th>\n",
       "      <th>Crop</th>\n",
       "      <th>Fertilizer</th>\n",
       "      <th>Link</th>\n",
       "    </tr>\n",
       "  </thead>\n",
       "  <tbody>\n",
       "    <tr>\n",
       "      <th>0</th>\n",
       "      <td>Black</td>\n",
       "      <td>75</td>\n",
       "      <td>50</td>\n",
       "      <td>100</td>\n",
       "      <td>6.5</td>\n",
       "      <td>Sugarcane</td>\n",
       "      <td>Urea</td>\n",
       "      <td>https://youtu.be/2t5Am0xLTOo</td>\n",
       "    </tr>\n",
       "    <tr>\n",
       "      <th>1</th>\n",
       "      <td>Black</td>\n",
       "      <td>80</td>\n",
       "      <td>50</td>\n",
       "      <td>100</td>\n",
       "      <td>6.5</td>\n",
       "      <td>Sugarcane</td>\n",
       "      <td>Urea</td>\n",
       "      <td>https://youtu.be/2t5Am0xLTOo</td>\n",
       "    </tr>\n",
       "    <tr>\n",
       "      <th>2</th>\n",
       "      <td>Black</td>\n",
       "      <td>85</td>\n",
       "      <td>50</td>\n",
       "      <td>100</td>\n",
       "      <td>6.5</td>\n",
       "      <td>Sugarcane</td>\n",
       "      <td>Urea</td>\n",
       "      <td>https://youtu.be/2t5Am0xLTOo</td>\n",
       "    </tr>\n",
       "    <tr>\n",
       "      <th>3</th>\n",
       "      <td>Black</td>\n",
       "      <td>90</td>\n",
       "      <td>50</td>\n",
       "      <td>100</td>\n",
       "      <td>6.5</td>\n",
       "      <td>Sugarcane</td>\n",
       "      <td>Urea</td>\n",
       "      <td>https://youtu.be/2t5Am0xLTOo</td>\n",
       "    </tr>\n",
       "    <tr>\n",
       "      <th>4</th>\n",
       "      <td>Black</td>\n",
       "      <td>95</td>\n",
       "      <td>50</td>\n",
       "      <td>100</td>\n",
       "      <td>6.5</td>\n",
       "      <td>Sugarcane</td>\n",
       "      <td>Urea</td>\n",
       "      <td>https://youtu.be/2t5Am0xLTOo</td>\n",
       "    </tr>\n",
       "  </tbody>\n",
       "</table>\n",
       "</div>"
      ],
      "text/plain": [
       "  Soil_color  Nitrogen  Phosphorus  Potassium   pH       Crop Fertilizer  \\\n",
       "0      Black        75          50        100  6.5  Sugarcane       Urea   \n",
       "1      Black        80          50        100  6.5  Sugarcane       Urea   \n",
       "2      Black        85          50        100  6.5  Sugarcane       Urea   \n",
       "3      Black        90          50        100  6.5  Sugarcane       Urea   \n",
       "4      Black        95          50        100  6.5  Sugarcane       Urea   \n",
       "\n",
       "                           Link  \n",
       "0  https://youtu.be/2t5Am0xLTOo  \n",
       "1  https://youtu.be/2t5Am0xLTOo  \n",
       "2  https://youtu.be/2t5Am0xLTOo  \n",
       "3  https://youtu.be/2t5Am0xLTOo  \n",
       "4  https://youtu.be/2t5Am0xLTOo  "
      ]
     },
     "execution_count": 6,
     "metadata": {},
     "output_type": "execute_result"
    }
   ],
   "source": [
    "df.head()"
   ]
  },
  {
   "cell_type": "code",
   "execution_count": 7,
   "metadata": {},
   "outputs": [
    {
     "data": {
      "text/html": [
       "<div>\n",
       "<style scoped>\n",
       "    .dataframe tbody tr th:only-of-type {\n",
       "        vertical-align: middle;\n",
       "    }\n",
       "\n",
       "    .dataframe tbody tr th {\n",
       "        vertical-align: top;\n",
       "    }\n",
       "\n",
       "    .dataframe thead th {\n",
       "        text-align: right;\n",
       "    }\n",
       "</style>\n",
       "<table border=\"1\" class=\"dataframe\">\n",
       "  <thead>\n",
       "    <tr style=\"text-align: right;\">\n",
       "      <th></th>\n",
       "      <th>Nitrogen</th>\n",
       "      <th>Phosphorus</th>\n",
       "      <th>Potassium</th>\n",
       "      <th>pH</th>\n",
       "    </tr>\n",
       "  </thead>\n",
       "  <tbody>\n",
       "    <tr>\n",
       "      <th>count</th>\n",
       "      <td>2921.000000</td>\n",
       "      <td>2921.000000</td>\n",
       "      <td>2921.000000</td>\n",
       "      <td>2921.000000</td>\n",
       "    </tr>\n",
       "    <tr>\n",
       "      <th>mean</th>\n",
       "      <td>109.630264</td>\n",
       "      <td>59.698733</td>\n",
       "      <td>75.448477</td>\n",
       "      <td>6.754707</td>\n",
       "    </tr>\n",
       "    <tr>\n",
       "      <th>std</th>\n",
       "      <td>32.180999</td>\n",
       "      <td>15.169532</td>\n",
       "      <td>36.187594</td>\n",
       "      <td>0.639857</td>\n",
       "    </tr>\n",
       "    <tr>\n",
       "      <th>min</th>\n",
       "      <td>20.000000</td>\n",
       "      <td>15.000000</td>\n",
       "      <td>20.000000</td>\n",
       "      <td>5.500000</td>\n",
       "    </tr>\n",
       "    <tr>\n",
       "      <th>25%</th>\n",
       "      <td>90.000000</td>\n",
       "      <td>50.000000</td>\n",
       "      <td>50.000000</td>\n",
       "      <td>6.500000</td>\n",
       "    </tr>\n",
       "    <tr>\n",
       "      <th>50%</th>\n",
       "      <td>120.000000</td>\n",
       "      <td>60.000000</td>\n",
       "      <td>60.000000</td>\n",
       "      <td>6.500000</td>\n",
       "    </tr>\n",
       "    <tr>\n",
       "      <th>75%</th>\n",
       "      <td>135.000000</td>\n",
       "      <td>70.000000</td>\n",
       "      <td>100.000000</td>\n",
       "      <td>7.000000</td>\n",
       "    </tr>\n",
       "    <tr>\n",
       "      <th>max</th>\n",
       "      <td>150.000000</td>\n",
       "      <td>90.000000</td>\n",
       "      <td>150.000000</td>\n",
       "      <td>8.500000</td>\n",
       "    </tr>\n",
       "  </tbody>\n",
       "</table>\n",
       "</div>"
      ],
      "text/plain": [
       "          Nitrogen   Phosphorus    Potassium           pH\n",
       "count  2921.000000  2921.000000  2921.000000  2921.000000\n",
       "mean    109.630264    59.698733    75.448477     6.754707\n",
       "std      32.180999    15.169532    36.187594     0.639857\n",
       "min      20.000000    15.000000    20.000000     5.500000\n",
       "25%      90.000000    50.000000    50.000000     6.500000\n",
       "50%     120.000000    60.000000    60.000000     6.500000\n",
       "75%     135.000000    70.000000   100.000000     7.000000\n",
       "max     150.000000    90.000000   150.000000     8.500000"
      ]
     },
     "execution_count": 7,
     "metadata": {},
     "output_type": "execute_result"
    }
   ],
   "source": [
    "df.describe()"
   ]
  },
  {
   "cell_type": "code",
   "execution_count": 8,
   "metadata": {},
   "outputs": [
    {
     "data": {
      "image/png": "[encoded data removed]",
      "text/plain": [
       "<Figure size 1152x576 with 1 Axes>"
      ]
     },
     "metadata": {
      "needs_background": "light"
     },
     "output_type": "display_data"
    }
   ],
   "source": [
    "import seaborn as sns\n",
    "import matplotlib.pyplot as plt\n",
    "plt.figure(figsize=(16, 8))\n",
    "sns.countplot(x='Crop', hue='Fertilizer', data=df)  # Use keyword arguments x and hue\n",
    "plt.title('Fertilizers used for Different Crops')\n",
    "plt.xlabel('Crop')\n",
    "plt.ylabel('Count')\n",
    "plt.legend(title=\"Fertilizer\", loc='upper right')\n",
    "plt.show()"
   ]
  },
  {
   "cell_type": "code",
   "execution_count": 9,
   "metadata": {},
   "outputs": [
    {
     "data": {
      "image/png": "[encoded data removed]",
      "text/plain": [
       "<Figure size 576x432 with 1 Axes>"
      ]
     },
     "metadata": {
      "needs_background": "light"
     },
     "output_type": "display_data"
    }
   ],
   "source": [
    "plt.figure(figsize=(8, 6))\n",
    "sns.scatterplot(x='Nitrogen', y='Phosphorus', hue='Crop', data=df, palette='Set1')\n",
    "plt.title('Nitrogen vs Phosphorus Levels for Different Crops')\n",
    "plt.xlabel('Nitrogen')\n",
    "plt.ylabel('Phosphorus')\n",
    "plt.show()"
   ]
  },
  {
   "cell_type": "code",
   "execution_count": 10,
   "metadata": {},
   "outputs": [
    {
     "data": {
      "image/png": "[encoded data removed]",
      "text/plain": [
       "<Figure size 576x432 with 1 Axes>"
      ]
     },
     "metadata": {
      "needs_background": "light"
     },
     "output_type": "display_data"
    }
   ],
   "source": [
    "plt.figure(figsize=(8, 6))\n",
    "plt.hist(df['pH'], bins=5, color='skyblue', edgecolor='black')\n",
    "plt.title('Distribution of pH Levels')\n",
    "plt.xlabel('pH')\n",
    "plt.ylabel('Frequency')\n",
    "plt.show()"
   ]
  },
  {
   "cell_type": "code",
   "execution_count": 11,
   "metadata": {},
   "outputs": [
    {
     "name": "stdout",
     "output_type": "stream",
     "text": [
      "            Nitrogen  Phosphorus  Potassium        pH\n",
      "Nitrogen    1.000000    0.664996   0.441078  0.127899\n",
      "Phosphorus  0.664996    1.000000   0.486449  0.214400\n",
      "Potassium   0.441078    0.486449   1.000000  0.009116\n",
      "pH          0.127899    0.214400   0.009116  1.000000\n"
     ]
    }
   ],
   "source": [
    "numeric_df = df.select_dtypes(include=['number'])  # Select only numeric columns\n",
    "corr = numeric_df.corr()  # Calculate the correlation matrix\n",
    "print(corr)"
   ]
  },
  {
   "cell_type": "code",
   "execution_count": 12,
   "metadata": {},
   "outputs": [
    {
     "data": {
      "text/plain": [
       "<Axes: >"
      ]
     },
     "execution_count": 12,
     "metadata": {},
     "output_type": "execute_result"
    },
    {
     "data": {
      "image/png": "[encoded data removed]",
      "text/plain": [
       "<Figure size 432x288 with 2 Axes>"
      ]
     },
     "metadata": {
      "needs_background": "light"
     },
     "output_type": "display_data"
    }
   ],
   "source": [
    "import seaborn as sns\n",
    "sns.heatmap(corr,annot=True,cbar=True,cmap='coolwarm')"
   ]
  },
  {
   "cell_type": "code",
   "execution_count": 13,
   "metadata": {},
   "outputs": [
    {
     "data": {
      "text/plain": [
       "Fertilizer\n",
       "Urea                  1223\n",
       "DAP                    637\n",
       "MOP                    472\n",
       "SSP                    249\n",
       "Magnesium Sulphate     215\n",
       "Ammonium Sulphate       50\n",
       "Ferrous Sulphate        50\n",
       "Hydrated Lime           25\n",
       "Name: count, dtype: int64"
      ]
     },
     "execution_count": 13,
     "metadata": {},
     "output_type": "execute_result"
    }
   ],
   "source": [
    "df['Fertilizer'].value_counts()"
   ]
  },
  {
   "cell_type": "code",
   "execution_count": 14,
   "metadata": {},
   "outputs": [],
   "source": [
    "fertilizer_dict={\n",
    "'Urea':1,\n",
    "'DAP':2,                    \n",
    "'MOP':3,                    \n",
    "'SSP':4,                    \n",
    "'Magnesium Sulphate':5,     \n",
    "'Ammonium Sulphate':6,       \n",
    "'Ferrous Sulphate':7,        \n",
    "'Hydrated Lime':8 \n",
    "}\n",
    "df['Fertilizer_num']=df['Fertilizer'].map(fertilizer_dict)"
   ]
  },
  {
   "cell_type": "code",
   "execution_count": 15,
   "metadata": {},
   "outputs": [
    {
     "data": {
      "text/plain": [
       "Fertilizer_num\n",
       "1    1223\n",
       "2     637\n",
       "3     472\n",
       "4     249\n",
       "5     215\n",
       "6      50\n",
       "7      50\n",
       "8      25\n",
       "Name: count, dtype: int64"
      ]
     },
     "execution_count": 15,
     "metadata": {},
     "output_type": "execute_result"
    }
   ],
   "source": [
    "df['Fertilizer_num'].value_counts()"
   ]
  },
  {
   "cell_type": "code",
   "execution_count": 16,
   "metadata": {},
   "outputs": [],
   "source": [
    "df.drop('Fertilizer',axis=1,inplace=True)"
   ]
  },
  {
   "cell_type": "code",
   "execution_count": 17,
   "metadata": {},
   "outputs": [
    {
     "data": {
      "text/html": [
       "<div>\n",
       "<style scoped>\n",
       "    .dataframe tbody tr th:only-of-type {\n",
       "        vertical-align: middle;\n",
       "    }\n",
       "\n",
       "    .dataframe tbody tr th {\n",
       "        vertical-align: top;\n",
       "    }\n",
       "\n",
       "    .dataframe thead th {\n",
       "        text-align: right;\n",
       "    }\n",
       "</style>\n",
       "<table border=\"1\" class=\"dataframe\">\n",
       "  <thead>\n",
       "    <tr style=\"text-align: right;\">\n",
       "      <th></th>\n",
       "      <th>Soil_color</th>\n",
       "      <th>Nitrogen</th>\n",
       "      <th>Phosphorus</th>\n",
       "      <th>Potassium</th>\n",
       "      <th>pH</th>\n",
       "      <th>Crop</th>\n",
       "      <th>Link</th>\n",
       "      <th>Fertilizer_num</th>\n",
       "    </tr>\n",
       "  </thead>\n",
       "  <tbody>\n",
       "    <tr>\n",
       "      <th>0</th>\n",
       "      <td>Black</td>\n",
       "      <td>75</td>\n",
       "      <td>50</td>\n",
       "      <td>100</td>\n",
       "      <td>6.5</td>\n",
       "      <td>Sugarcane</td>\n",
       "      <td>https://youtu.be/2t5Am0xLTOo</td>\n",
       "      <td>1</td>\n",
       "    </tr>\n",
       "    <tr>\n",
       "      <th>1</th>\n",
       "      <td>Black</td>\n",
       "      <td>80</td>\n",
       "      <td>50</td>\n",
       "      <td>100</td>\n",
       "      <td>6.5</td>\n",
       "      <td>Sugarcane</td>\n",
       "      <td>https://youtu.be/2t5Am0xLTOo</td>\n",
       "      <td>1</td>\n",
       "    </tr>\n",
       "    <tr>\n",
       "      <th>2</th>\n",
       "      <td>Black</td>\n",
       "      <td>85</td>\n",
       "      <td>50</td>\n",
       "      <td>100</td>\n",
       "      <td>6.5</td>\n",
       "      <td>Sugarcane</td>\n",
       "      <td>https://youtu.be/2t5Am0xLTOo</td>\n",
       "      <td>1</td>\n",
       "    </tr>\n",
       "    <tr>\n",
       "      <th>3</th>\n",
       "      <td>Black</td>\n",
       "      <td>90</td>\n",
       "      <td>50</td>\n",
       "      <td>100</td>\n",
       "      <td>6.5</td>\n",
       "      <td>Sugarcane</td>\n",
       "      <td>https://youtu.be/2t5Am0xLTOo</td>\n",
       "      <td>1</td>\n",
       "    </tr>\n",
       "    <tr>\n",
       "      <th>4</th>\n",
       "      <td>Black</td>\n",
       "      <td>95</td>\n",
       "      <td>50</td>\n",
       "      <td>100</td>\n",
       "      <td>6.5</td>\n",
       "      <td>Sugarcane</td>\n",
       "      <td>https://youtu.be/2t5Am0xLTOo</td>\n",
       "      <td>1</td>\n",
       "    </tr>\n",
       "  </tbody>\n",
       "</table>\n",
       "</div>"
      ],
      "text/plain": [
       "  Soil_color  Nitrogen  Phosphorus  Potassium   pH       Crop  \\\n",
       "0      Black        75          50        100  6.5  Sugarcane   \n",
       "1      Black        80          50        100  6.5  Sugarcane   \n",
       "2      Black        85          50        100  6.5  Sugarcane   \n",
       "3      Black        90          50        100  6.5  Sugarcane   \n",
       "4      Black        95          50        100  6.5  Sugarcane   \n",
       "\n",
       "                           Link  Fertilizer_num  \n",
       "0  https://youtu.be/2t5Am0xLTOo               1  \n",
       "1  https://youtu.be/2t5Am0xLTOo               1  \n",
       "2  https://youtu.be/2t5Am0xLTOo               1  \n",
       "3  https://youtu.be/2t5Am0xLTOo               1  \n",
       "4  https://youtu.be/2t5Am0xLTOo               1  "
      ]
     },
     "execution_count": 17,
     "metadata": {},
     "output_type": "execute_result"
    }
   ],
   "source": [
    "df.head()"
   ]
  },
  {
   "cell_type": "code",
   "execution_count": 18,
   "metadata": {},
   "outputs": [],
   "source": [
    "x=df.drop('Fertilizer_num',axis=1)\n",
    "y=df['Fertilizer_num']"
   ]
  },
  {
   "cell_type": "code",
   "execution_count": 19,
   "metadata": {},
   "outputs": [
    {
     "data": {
      "text/plain": [
       "(2921, 7)"
      ]
     },
     "execution_count": 19,
     "metadata": {},
     "output_type": "execute_result"
    }
   ],
   "source": [
    "x.shape"
   ]
  },
  {
   "cell_type": "code",
   "execution_count": 20,
   "metadata": {},
   "outputs": [
    {
     "data": {
      "text/plain": [
       "(2921,)"
      ]
     },
     "execution_count": 20,
     "metadata": {},
     "output_type": "execute_result"
    }
   ],
   "source": [
    "y.shape"
   ]
  },
  {
   "cell_type": "code",
   "execution_count": 21,
   "metadata": {},
   "outputs": [],
   "source": [
    "from sklearn.model_selection import train_test_split\n",
    "x_train,x_test,y_train,y_test=train_test_split(x,y,test_size=0.2,random_state=42)"
   ]
  },
  {
   "cell_type": "code",
   "execution_count": 22,
   "metadata": {},
   "outputs": [
    {
     "data": {
      "text/plain": [
       "(2336, 7)"
      ]
     },
     "execution_count": 22,
     "metadata": {},
     "output_type": "execute_result"
    }
   ],
   "source": [
    "x_train.shape"
   ]
  },
  {
   "cell_type": "code",
   "execution_count": 23,
   "metadata": {},
   "outputs": [
    {
     "data": {
      "text/plain": [
       "(585, 7)"
      ]
     },
     "execution_count": 23,
     "metadata": {},
     "output_type": "execute_result"
    }
   ],
   "source": [
    "x_test.shape"
   ]
  },
  {
   "cell_type": "code",
   "execution_count": 24,
   "metadata": {},
   "outputs": [
    {
     "data": {
      "text/html": [
       "<div>\n",
       "<style scoped>\n",
       "    .dataframe tbody tr th:only-of-type {\n",
       "        vertical-align: middle;\n",
       "    }\n",
       "\n",
       "    .dataframe tbody tr th {\n",
       "        vertical-align: top;\n",
       "    }\n",
       "\n",
       "    .dataframe thead th {\n",
       "        text-align: right;\n",
       "    }\n",
       "</style>\n",
       "<table border=\"1\" class=\"dataframe\">\n",
       "  <thead>\n",
       "    <tr style=\"text-align: right;\">\n",
       "      <th></th>\n",
       "      <th>Soil_color</th>\n",
       "      <th>Nitrogen</th>\n",
       "      <th>Phosphorus</th>\n",
       "      <th>Potassium</th>\n",
       "      <th>pH</th>\n",
       "      <th>Crop</th>\n",
       "      <th>Link</th>\n",
       "    </tr>\n",
       "  </thead>\n",
       "  <tbody>\n",
       "    <tr>\n",
       "      <th>1091</th>\n",
       "      <td>Black</td>\n",
       "      <td>125</td>\n",
       "      <td>80</td>\n",
       "      <td>80</td>\n",
       "      <td>8.5</td>\n",
       "      <td>Sugarcane</td>\n",
       "      <td>https://youtu.be/VNptnPJt5yo</td>\n",
       "    </tr>\n",
       "    <tr>\n",
       "      <th>542</th>\n",
       "      <td>Dark Brown</td>\n",
       "      <td>110</td>\n",
       "      <td>50</td>\n",
       "      <td>50</td>\n",
       "      <td>7.0</td>\n",
       "      <td>Wheat</td>\n",
       "      <td>https://www.youtube.com/live/vX-DfTU-KbE?featu...</td>\n",
       "    </tr>\n",
       "    <tr>\n",
       "      <th>1340</th>\n",
       "      <td>Red</td>\n",
       "      <td>85</td>\n",
       "      <td>55</td>\n",
       "      <td>40</td>\n",
       "      <td>6.5</td>\n",
       "      <td>Rice</td>\n",
       "      <td>https://youtu.be/WaWgxSZHiWo</td>\n",
       "    </tr>\n",
       "    <tr>\n",
       "      <th>2436</th>\n",
       "      <td>Black</td>\n",
       "      <td>145</td>\n",
       "      <td>75</td>\n",
       "      <td>50</td>\n",
       "      <td>7.0</td>\n",
       "      <td>Maize</td>\n",
       "      <td>https://youtu.be/hxuB66J-3BI</td>\n",
       "    </tr>\n",
       "    <tr>\n",
       "      <th>1957</th>\n",
       "      <td>Black</td>\n",
       "      <td>70</td>\n",
       "      <td>50</td>\n",
       "      <td>55</td>\n",
       "      <td>7.5</td>\n",
       "      <td>Wheat</td>\n",
       "      <td>https://youtu.be/EhyW9blAneM</td>\n",
       "    </tr>\n",
       "    <tr>\n",
       "      <th>...</th>\n",
       "      <td>...</td>\n",
       "      <td>...</td>\n",
       "      <td>...</td>\n",
       "      <td>...</td>\n",
       "      <td>...</td>\n",
       "      <td>...</td>\n",
       "      <td>...</td>\n",
       "    </tr>\n",
       "    <tr>\n",
       "      <th>1638</th>\n",
       "      <td>Black</td>\n",
       "      <td>120</td>\n",
       "      <td>70</td>\n",
       "      <td>145</td>\n",
       "      <td>7.0</td>\n",
       "      <td>Sugarcane</td>\n",
       "      <td>https://youtu.be/VNptnPJt5yo</td>\n",
       "    </tr>\n",
       "    <tr>\n",
       "      <th>1095</th>\n",
       "      <td>Black</td>\n",
       "      <td>145</td>\n",
       "      <td>80</td>\n",
       "      <td>80</td>\n",
       "      <td>8.5</td>\n",
       "      <td>Sugarcane</td>\n",
       "      <td>https://youtu.be/VNptnPJt5yo</td>\n",
       "    </tr>\n",
       "    <tr>\n",
       "      <th>1130</th>\n",
       "      <td>Black</td>\n",
       "      <td>145</td>\n",
       "      <td>80</td>\n",
       "      <td>60</td>\n",
       "      <td>8.5</td>\n",
       "      <td>Sugarcane</td>\n",
       "      <td>https://youtu.be/xW8wji2zjcU</td>\n",
       "    </tr>\n",
       "    <tr>\n",
       "      <th>1294</th>\n",
       "      <td>Red</td>\n",
       "      <td>80</td>\n",
       "      <td>55</td>\n",
       "      <td>55</td>\n",
       "      <td>7.5</td>\n",
       "      <td>Rice</td>\n",
       "      <td>https://youtu.be/nZxrPsXAJE152</td>\n",
       "    </tr>\n",
       "    <tr>\n",
       "      <th>860</th>\n",
       "      <td>Dark Brown</td>\n",
       "      <td>145</td>\n",
       "      <td>75</td>\n",
       "      <td>50</td>\n",
       "      <td>7.5</td>\n",
       "      <td>Maize</td>\n",
       "      <td>https://youtu.be/VNptnPJt5yo</td>\n",
       "    </tr>\n",
       "  </tbody>\n",
       "</table>\n",
       "<p>2336 rows × 7 columns</p>\n",
       "</div>"
      ],
      "text/plain": [
       "      Soil_color  Nitrogen  Phosphorus  Potassium   pH       Crop  \\\n",
       "1091       Black       125          80         80  8.5  Sugarcane   \n",
       "542   Dark Brown       110          50         50  7.0      Wheat   \n",
       "1340         Red        85          55         40  6.5       Rice   \n",
       "2436       Black       145          75         50  7.0      Maize   \n",
       "1957       Black        70          50         55  7.5      Wheat   \n",
       "...          ...       ...         ...        ...  ...        ...   \n",
       "1638       Black       120          70        145  7.0  Sugarcane   \n",
       "1095       Black       145          80         80  8.5  Sugarcane   \n",
       "1130       Black       145          80         60  8.5  Sugarcane   \n",
       "1294         Red        80          55         55  7.5       Rice   \n",
       "860   Dark Brown       145          75         50  7.5      Maize   \n",
       "\n",
       "                                                   Link  \n",
       "1091                       https://youtu.be/VNptnPJt5yo  \n",
       "542   https://www.youtube.com/live/vX-DfTU-KbE?featu...  \n",
       "1340                       https://youtu.be/WaWgxSZHiWo  \n",
       "2436                       https://youtu.be/hxuB66J-3BI  \n",
       "1957                       https://youtu.be/EhyW9blAneM  \n",
       "...                                                 ...  \n",
       "1638                       https://youtu.be/VNptnPJt5yo  \n",
       "1095                       https://youtu.be/VNptnPJt5yo  \n",
       "1130                       https://youtu.be/xW8wji2zjcU  \n",
       "1294                     https://youtu.be/nZxrPsXAJE152  \n",
       "860                        https://youtu.be/VNptnPJt5yo  \n",
       "\n",
       "[2336 rows x 7 columns]"
      ]
     },
     "execution_count": 24,
     "metadata": {},
     "output_type": "execute_result"
    }
   ],
   "source": [
    "x_train"
   ]
  },
  {
   "cell_type": "code",
   "execution_count": 25,
   "metadata": {},
   "outputs": [],
   "source": [
    "import numpy as np\n",
    "x_train = x_train.select_dtypes(include=[np.number])\n",
    "x_test = x_test.select_dtypes(include=[np.number])"
   ]
  },
  {
   "cell_type": "code",
   "execution_count": 26,
   "metadata": {},
   "outputs": [],
   "source": [
    "from sklearn.preprocessing import MinMaxScaler\n",
    "ms=MinMaxScaler()\n",
    "ms.fit(x_train)\n",
    "x_train=ms.transform(x_train)\n",
    "x_test=ms.transform(x_test)"
   ]
  },
  {
   "cell_type": "code",
   "execution_count": 27,
   "metadata": {},
   "outputs": [
    {
     "data": {
      "text/plain": [
       "array([[0.80769231, 0.86666667, 0.46153846, 1.        ],\n",
       "       [0.69230769, 0.46666667, 0.23076923, 0.5       ],\n",
       "       [0.5       , 0.53333333, 0.15384615, 0.33333333],\n",
       "       ...,\n",
       "       [0.96153846, 0.86666667, 0.30769231, 1.        ],\n",
       "       [0.46153846, 0.53333333, 0.26923077, 0.66666667],\n",
       "       [0.96153846, 0.8       , 0.23076923, 0.66666667]])"
      ]
     },
     "execution_count": 27,
     "metadata": {},
     "output_type": "execute_result"
    }
   ],
   "source": [
    "x_train"
   ]
  },
  {
   "cell_type": "code",
   "execution_count": 28,
   "metadata": {},
   "outputs": [],
   "source": [
    "from sklearn.preprocessing import StandardScaler\n",
    "sc=StandardScaler()\n",
    "sc.fit(x_train)\n",
    "x_train=sc.transform(x_train)\n",
    "x_test=sc.transform(x_test)"
   ]
  },
  {
   "cell_type": "code",
   "execution_count": 29,
   "metadata": {},
   "outputs": [
    {
     "data": {
      "text/plain": [
       "array([[ 0.47505211,  1.3497231 ,  0.11597483,  2.73595066],\n",
       "       [ 0.00917397, -0.64581687, -0.70873506,  0.3830801 ],\n",
       "       [-0.7672896 , -0.31322688, -0.98363836, -0.40121009],\n",
       "       ...,\n",
       "       [ 1.09622296,  1.3497231 , -0.43383176,  2.73595066],\n",
       "       [-0.92258231, -0.31322688, -0.57128341,  1.16737029],\n",
       "       [ 1.09622296,  1.0171331 , -0.70873506,  1.16737029]])"
      ]
     },
     "execution_count": 29,
     "metadata": {},
     "output_type": "execute_result"
    }
   ],
   "source": [
    "x_train"
   ]
  },
  {
   "cell_type": "code",
   "execution_count": 30,
   "metadata": {},
   "outputs": [
    {
     "name": "stdout",
     "output_type": "stream",
     "text": [
      "LogisticRegression with accuracy : 0.4376068376068376\n",
      "naive bayes with accuracy : 0.4153846153846154\n",
      "svm with accuracy : 0.517948717948718\n",
      "k-nearest neighbors with accuracy : 0.6666666666666666\n",
      "Decision Tree with accuracy : 0.8547008547008547\n",
      "Random Forest with accuracy : 0.8427350427350427\n",
      "Bagging with accuracy : 0.8444444444444444\n",
      "Gradient with accuracy : 0.6564102564102564\n",
      "Adaboost with accuracy : 0.38290598290598293\n",
      "ExtraTree with accuracy : 0.7863247863247863\n"
     ]
    },
    {
     "name": "stderr",
     "output_type": "stream",
     "text": [
      "c:\\Users\\Lenovo\\AppData\\Local\\Programs\\Python\\Python310\\lib\\site-packages\\sklearn\\ensemble\\_weight_boosting.py:519: FutureWarning: The SAMME.R algorithm (the default) is deprecated and will be removed in 1.6. Use the SAMME algorithm to circumvent this warning.\n",
      "  warnings.warn(\n"
     ]
    }
   ],
   "source": [
    "from sklearn.linear_model import LogisticRegression\n",
    "from sklearn.naive_bayes import GaussianNB\n",
    "from sklearn.svm import SVC\n",
    "from sklearn.neighbors import KNeighborsClassifier\n",
    "from sklearn.tree import DecisionTreeClassifier\n",
    "from sklearn.tree import ExtraTreeClassifier\n",
    "from sklearn.ensemble import RandomForestClassifier\n",
    "from sklearn.ensemble import BaggingClassifier\n",
    "from sklearn.ensemble import GradientBoostingClassifier\n",
    "from sklearn.ensemble import AdaBoostClassifier\n",
    "from sklearn.metrics import accuracy_score\n",
    "\n",
    "models={\n",
    "    'LogisticRegression':LogisticRegression(),\n",
    "    'naive bayes':GaussianNB(),\n",
    "    'svm':SVC(),\n",
    "    'k-nearest neighbors': KNeighborsClassifier(),\n",
    "    'Decision Tree': DecisionTreeClassifier(),\n",
    "    'Random Forest':RandomForestClassifier(),\n",
    "    'Bagging':BaggingClassifier(),\n",
    "    'Gradient':GradientBoostingClassifier(),\n",
    "    'Adaboost':AdaBoostClassifier(),\n",
    "    'ExtraTree':ExtraTreeClassifier(),\n",
    "}\n",
    "\n",
    "for name,md in models.items():\n",
    "    md.fit(x_train,y_train)\n",
    "    ypre=md.predict(x_test)\n",
    "\n",
    "    print(f\"{name} with accuracy : {accuracy_score(y_test,ypre)}\")"
   ]
  },
  {
   "cell_type": "code",
   "execution_count": 31,
   "metadata": {},
   "outputs": [
    {
     "data": {
      "text/plain": [
       "0.841025641025641"
      ]
     },
     "execution_count": 31,
     "metadata": {},
     "output_type": "execute_result"
    }
   ],
   "source": [
    "rf_model=RandomForestClassifier()\n",
    "rf_model.fit(x_train,y_train)\n",
    "ypred=rf_model.predict(x_test)\n",
    "accuracy_score(y_test,ypred)"
   ]
  },
  {
   "cell_type": "code",
   "execution_count": 32,
   "metadata": {},
   "outputs": [
    {
     "data": {
      "text/plain": [
       "0.4153846153846154"
      ]
     },
     "execution_count": 32,
     "metadata": {},
     "output_type": "execute_result"
    }
   ],
   "source": [
    "nv_model=GaussianNB()\n",
    "nv_model.fit(x_train,y_train)\n",
    "ypred=nv_model.predict(x_test)\n",
    "accuracy_score(y_test,ypred)"
   ]
  },
  {
   "cell_type": "code",
   "execution_count": 33,
   "metadata": {},
   "outputs": [
    {
     "data": {
      "text/plain": [
       "0.517948717948718"
      ]
     },
     "execution_count": 33,
     "metadata": {},
     "output_type": "execute_result"
    }
   ],
   "source": [
    "sVM_model=SVC()\n",
    "sVM_model.fit(x_train,y_train)\n",
    "ypred=sVM_model.predict(x_test)\n",
    "accuracy_score(y_test,ypred)"
   ]
  },
  {
   "cell_type": "code",
   "execution_count": 34,
   "metadata": {},
   "outputs": [
    {
     "data": {
      "text/plain": [
       "0.841025641025641"
      ]
     },
     "execution_count": 34,
     "metadata": {},
     "output_type": "execute_result"
    }
   ],
   "source": [
    "dt_model=DecisionTreeClassifier()\n",
    "dt_model.fit(x_train,y_train)\n",
    "ypred=dt_model.predict(x_test)\n",
    "accuracy_score(y_test,ypred)"
   ]
  },
  {
   "cell_type": "code",
   "execution_count": 35,
   "metadata": {},
   "outputs": [
    {
     "name": "stdout",
     "output_type": "stream",
     "text": [
      "[[210   7   8   3   4   0   0   0]\n",
      " [ 11 102   9   1   2   0   0   0]\n",
      " [ 15   8  82   0   2   0   0   0]\n",
      " [  9   4   1  42   0   0   0   0]\n",
      " [  7   1   1   0  36   0   0   0]\n",
      " [  0   0   0   0   0   4   0   0]\n",
      " [  0   0   0   0   0   0   9   0]\n",
      " [  0   0   0   0   0   0   0   7]]\n"
     ]
    },
    {
     "data": {
      "text/plain": [
       "0.841025641025641"
      ]
     },
     "execution_count": 35,
     "metadata": {},
     "output_type": "execute_result"
    }
   ],
   "source": [
    "from sklearn.metrics import confusion_matrix\n",
    "cm=confusion_matrix(y_test,ypred)\n",
    "print(cm)\n",
    "accuracy_score(y_test,ypred)"
   ]
  },
  {
   "cell_type": "code",
   "execution_count": 36,
   "metadata": {},
   "outputs": [
    {
     "data": {
      "text/html": [
       "<div>\n",
       "<style scoped>\n",
       "    .dataframe tbody tr th:only-of-type {\n",
       "        vertical-align: middle;\n",
       "    }\n",
       "\n",
       "    .dataframe tbody tr th {\n",
       "        vertical-align: top;\n",
       "    }\n",
       "\n",
       "    .dataframe thead th {\n",
       "        text-align: right;\n",
       "    }\n",
       "</style>\n",
       "<table border=\"1\" class=\"dataframe\">\n",
       "  <thead>\n",
       "    <tr style=\"text-align: right;\">\n",
       "      <th></th>\n",
       "      <th>num</th>\n",
       "    </tr>\n",
       "    <tr>\n",
       "      <th>original</th>\n",
       "      <th></th>\n",
       "    </tr>\n",
       "  </thead>\n",
       "  <tbody>\n",
       "    <tr>\n",
       "      <th>1</th>\n",
       "      <td>0</td>\n",
       "    </tr>\n",
       "    <tr>\n",
       "      <th>2</th>\n",
       "      <td>1</td>\n",
       "    </tr>\n",
       "    <tr>\n",
       "      <th>3</th>\n",
       "      <td>2</td>\n",
       "    </tr>\n",
       "    <tr>\n",
       "      <th>4</th>\n",
       "      <td>3</td>\n",
       "    </tr>\n",
       "    <tr>\n",
       "      <th>5</th>\n",
       "      <td>4</td>\n",
       "    </tr>\n",
       "    <tr>\n",
       "      <th>6</th>\n",
       "      <td>5</td>\n",
       "    </tr>\n",
       "    <tr>\n",
       "      <th>7</th>\n",
       "      <td>6</td>\n",
       "    </tr>\n",
       "    <tr>\n",
       "      <th>8</th>\n",
       "      <td>7</td>\n",
       "    </tr>\n",
       "  </tbody>\n",
       "</table>\n",
       "</div>"
      ],
      "text/plain": [
       "          num\n",
       "original     \n",
       "1           0\n",
       "2           1\n",
       "3           2\n",
       "4           3\n",
       "5           4\n",
       "6           5\n",
       "7           6\n",
       "8           7"
      ]
     },
     "execution_count": 36,
     "metadata": {},
     "output_type": "execute_result"
    }
   ],
   "source": [
    "from sklearn.preprocessing import LabelEncoder\n",
    "num=LabelEncoder()\n",
    "df['Fertilizer_num']=num.fit_transform(df['Fertilizer_num'])\n",
    "fertilizer=pd.DataFrame(zip(num.classes_,num.transform(num.classes_)),columns=['original','num'])\n",
    "fertilizer=fertilizer.set_index('original')\n",
    "fertilizer"
   ]
  },
  {
   "cell_type": "code",
   "execution_count": 37,
   "metadata": {},
   "outputs": [],
   "source": [
    "def recommendation_predict(Nitrogen,Phosphorus,Potassium,pH):\n",
    "    features=np.array([[Nitrogen,Phosphorus,Potassium,pH]])\n",
    "    prediction=rf_model.predict(features).reshape(1,-1)\n",
    "\n",
    "    return prediction[0]"
   ]
  },
  {
   "cell_type": "code",
   "execution_count": 38,
   "metadata": {},
   "outputs": [],
   "source": [
    "def naive_bays_predict(Nitrogen,Phosphorus,Potassium,pH):\n",
    "    features=np.array([[Nitrogen,Phosphorus,Potassium,pH]])\n",
    "    prediction=nv_model.predict(features).reshape(1,-1)\n",
    "\n",
    "    return prediction[0]"
   ]
  },
  {
   "cell_type": "code",
   "execution_count": 39,
   "metadata": {},
   "outputs": [],
   "source": [
    "def svm_predict(Nitrogen,Phosphorus,Potassium,pH):\n",
    "    features=np.array([[Nitrogen,Phosphorus,Potassium,pH]])\n",
    "    prediction=sVM_model.predict(features).reshape(1,-1)\n",
    "\n",
    "    return prediction[0]"
   ]
  },
  {
   "cell_type": "code",
   "execution_count": 40,
   "metadata": {},
   "outputs": [],
   "source": [
    "def dt_predict(Nitrogen,Phosphorus,Potassium,pH):\n",
    "    features=np.array([[Nitrogen,Phosphorus,Potassium,pH]])\n",
    "    prediction=dt_model.predict(features).reshape(1,-1)\n",
    "\n",
    "    return prediction[0]"
   ]
  },
  {
   "cell_type": "code",
   "execution_count": 41,
   "metadata": {},
   "outputs": [
    {
     "name": "stdout",
     "output_type": "stream",
     "text": [
      "Urea : is the best fertilizer for your crop \n"
     ]
    }
   ],
   "source": [
    "Nitrogen=105\n",
    "Phosphorus=50\n",
    "Potassium=35\n",
    "pH=6.5\n",
    "\n",
    "\n",
    "\n",
    "predict_result = recommendation_predict(Nitrogen,Phosphorus,Potassium,pH)\n",
    "\n",
    "fertilizer_dict={\n",
    "1:'Urea',\n",
    "2:'DAP',                    \n",
    "3:'MOP',                    \n",
    "4:'SSP',                    \n",
    "5:'Magnesium Sulphate',     \n",
    "6:'Ammonium Sulphate',       \n",
    "7:'Ferrous Sulphate',        \n",
    "8:'Hydrated Lime',\n",
    "} \n",
    "\n",
    "if predict_result[0] in fertilizer_dict:\n",
    "    fertilizer1 = fertilizer_dict[predict_result[0]]\n",
    "    print(\"{} : is the best fertilizer for your crop \".format(fertilizer1))\n",
    "else:\n",
    "    print(\"sorry we don't find fertilizer for your crop\")    "
   ]
  },
  {
   "cell_type": "code",
   "execution_count": 42,
   "metadata": {},
   "outputs": [
    {
     "name": "stdout",
     "output_type": "stream",
     "text": [
      "Urea: is the best fertilizer for your crop \n"
     ]
    }
   ],
   "source": [
    "Nitrogen=105\n",
    "Phosphorus=50\n",
    "Potassium=35\n",
    "pH=6.5\n",
    "\n",
    "naive_bays_result=naive_bays_predict(Nitrogen,Phosphorus,Potassium,pH)\n",
    "\n",
    "fertilizer_dict={\n",
    "1:'Urea',\n",
    "2:'DAP',                    \n",
    "3:'MOP',                    \n",
    "4:'SSP',                    \n",
    "5:'Magnesium Sulphate',     \n",
    "6:'Ammonium Sulphate',       \n",
    "7:'Ferrous Sulphate',        \n",
    "8:'Hydrated Lime',\n",
    "} \n",
    "\n",
    "if naive_bays_result[0] in fertilizer_dict:\n",
    "    fertilizer2=fertilizer_dict[naive_bays_result[0]]\n",
    "    print(\"{}: is the best fertilizer for your crop \".format(fertilizer2))    \n",
    "else:\n",
    "    print(\"sorry we don't find fertilizer for your crop\")    "
   ]
  },
  {
   "cell_type": "code",
   "execution_count": 43,
   "metadata": {},
   "outputs": [
    {
     "name": "stdout",
     "output_type": "stream",
     "text": [
      "Urea: is the best fertilizer for your crop \n"
     ]
    }
   ],
   "source": [
    "Nitrogen=105\n",
    "Phosphorus=50\n",
    "Potassium=35\n",
    "pH=6.5\n",
    "\n",
    "svm_result=svm_predict(Nitrogen,Phosphorus,Potassium,pH)\n",
    "fertilizer_dict={\n",
    "1:'Urea',\n",
    "2:'DAP',                    \n",
    "3:'MOP',                    \n",
    "4:'SSP',                    \n",
    "5:'Magnesium Sulphate',     \n",
    "6:'Ammonium Sulphate',       \n",
    "7:'Ferrous Sulphate',        \n",
    "8:'Hydrated Lime',\n",
    "} \n",
    "\n",
    "if svm_result[0] in fertilizer_dict:\n",
    "    fertilizer3=fertilizer_dict[svm_result[0]]\n",
    "    print(\"{}: is the best fertilizer for your crop \".format(fertilizer3))    \n",
    "else:\n",
    "    print(\"sorry we don't find fertilizer for your crop\")"
   ]
  },
  {
   "cell_type": "code",
   "execution_count": 44,
   "metadata": {},
   "outputs": [
    {
     "name": "stdout",
     "output_type": "stream",
     "text": [
      "MOP: is the best fertilizer for your crop \n"
     ]
    }
   ],
   "source": [
    "Nitrogen=105\n",
    "Phosphorus=50\n",
    "Potassium=35\n",
    "pH=6.5\n",
    "\n",
    "dt_result=dt_predict(Nitrogen,Phosphorus,Potassium,pH)\n",
    "\n",
    "fertilizer_dict={\n",
    "1:'Urea',\n",
    "2:'DAP',                    \n",
    "3:'MOP',                    \n",
    "4:'SSP',                    \n",
    "5:'Magnesium Sulphate',     \n",
    "6:'Ammonium Sulphate',       \n",
    "7:'Ferrous Sulphate',        \n",
    "8:'Hydrated Lime',\n",
    "} \n",
    "\n",
    "if dt_result[0] in fertilizer_dict:\n",
    "    fertilizer4=fertilizer_dict[dt_result[0]]\n",
    "    print(\"{}: is the best fertilizer for your crop \".format(fertilizer4))    \n",
    "else:\n",
    "    print(\"sorry we don't find fertilizer for your crop\")\n"
   ]
  },
  {
   "cell_type": "code",
   "execution_count": 45,
   "metadata": {},
   "outputs": [
    {
     "data": {
      "text/plain": [
       "Index(['Soil_color', 'Nitrogen', 'Phosphorus', 'Potassium', 'pH', 'Crop',\n",
       "       'Link', 'Fertilizer_num'],\n",
       "      dtype='object')"
      ]
     },
     "execution_count": 45,
     "metadata": {},
     "output_type": "execute_result"
    }
   ],
   "source": [
    "df.columns"
   ]
  },
  {
   "cell_type": "code",
   "execution_count": 46,
   "metadata": {},
   "outputs": [
    {
     "data": {
      "text/plain": [
       "array([0, 1, 2, 3, 4, 5, 6, 7], dtype=int64)"
      ]
     },
     "execution_count": 46,
     "metadata": {},
     "output_type": "execute_result"
    }
   ],
   "source": [
    "df['Fertilizer_num'].unique()"
   ]
  },
  {
   "cell_type": "code",
   "execution_count": 47,
   "metadata": {},
   "outputs": [],
   "source": [
    "import pickle\n",
    "pickle.dump(rf_model,open('model.pkl','wb'))"
   ]
  },
  {
   "cell_type": "code",
   "execution_count": 48,
   "metadata": {},
   "outputs": [],
   "source": [
    "pickle.dump(nv_model,open('model1.pkl','wb'))"
   ]
  },
  {
   "cell_type": "code",
   "execution_count": 49,
   "metadata": {},
   "outputs": [],
   "source": [
    "pickle.dump(sVM_model,open('model2.pkl','wb'))"
   ]
  },
  {
   "cell_type": "code",
   "execution_count": 50,
   "metadata": {},
   "outputs": [],
   "source": [
    "pickle.dump(dt_model,open('model3.pkl','wb'))"
   ]
  }
 ],
 "metadata": {
  "kernelspec": {
   "display_name": "Python 3",
   "language": "python",
   "name": "python3"
  },
  "language_info": {
   "codemirror_mode": {
    "name": "ipython",
    "version": 3
   },
   "file_extension": ".py",
   "mimetype": "text/x-python",
   "name": "python",
   "nbconvert_exporter": "python",
   "pygments_lexer": "ipython3",
   "version": "3.10.2"
  }
 },
 "nbformat": 4,
 "nbformat_minor": 2
}
